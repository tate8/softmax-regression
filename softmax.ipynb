{
 "cells": [
  {
   "cell_type": "markdown",
   "metadata": {},
   "source": [
    "**Batch Gradient Descent with early stopping for Softmax Regression**<br><br>\n",
    "**Overview**\n",
    "\n",
    "* Get and visualize data\n",
    "* Train, validation, and test sets\n",
    "* Transform labels into one-hot vectors\n",
    "\n",
    "* **Batch gradient descent**\n",
    "   * Calculate z for each class (z = wx + b)\n",
    "   * Apply softmax to the z for each class\n",
    "   * When cost starts incresasing, we will stop the algorithm\n",
    "* Predict"
   ]
  },
  {
   "cell_type": "code",
   "execution_count": 1718,
   "metadata": {},
   "outputs": [
    {
     "name": "stdout",
     "output_type": "stream",
     "text": [
      "Nothing done.\n"
     ]
    }
   ],
   "source": [
    "import numpy as np\n",
    "import pandas as pd\n",
    "import matplotlib.pyplot as plt\n",
    "from sklearn.datasets import load_digits # MNIST dataset\n",
    "from sklearn.model_selection import train_test_split\n",
    "\n",
    "%matplotlib inline\n",
    "%reset"
   ]
  },
  {
   "cell_type": "markdown",
   "metadata": {},
   "source": [
    "**Step 1: Get and visualize data**"
   ]
  },
  {
   "cell_type": "code",
   "execution_count": 1719,
   "metadata": {},
   "outputs": [
    {
     "name": "stdout",
     "output_type": "stream",
     "text": [
      "Size of each training example: (64,)\n"
     ]
    },
    {
     "data": {
      "text/plain": [
       "<Figure size 432x288 with 0 Axes>"
      ]
     },
     "metadata": {},
     "output_type": "display_data"
    },
    {
     "data": {
      "image/png": "[encoded data removed]",
      "text/plain": [
       "<Figure size 288x288 with 1 Axes>"
      ]
     },
     "metadata": {
      "needs_background": "light"
     },
     "output_type": "display_data"
    }
   ],
   "source": [
    "digits = load_digits()\n",
    "\n",
    "X = digits['data']\n",
    "y = digits['target']\n",
    "\n",
    "# each image is already flattened\n",
    "# 8 x 8 images flattened = 64 len array\n",
    "print(f'Size of each training example: {X[0].shape}')\n",
    "\n",
    "plt.gray()\n",
    "plt.matshow(digits.images[0])\n",
    "plt.show()"
   ]
  },
  {
   "cell_type": "markdown",
   "metadata": {},
   "source": [
    "**Step 2: Train and test sets**"
   ]
  },
  {
   "cell_type": "code",
   "execution_count": 1720,
   "metadata": {},
   "outputs": [],
   "source": [
    "# split twice to get the val set\n",
    "X_train, X_test, y_train, y_test = train_test_split(X, y, test_size=0.1, random_state=1)\n",
    "\n",
    "X_train, X_val, y_train, y_val = train_test_split(X_train, y_train, test_size=0.20, random_state=1)"
   ]
  },
  {
   "cell_type": "markdown",
   "metadata": {},
   "source": [
    "**Step 3: One-hot labels**"
   ]
  },
  {
   "cell_type": "code",
   "execution_count": 1721,
   "metadata": {},
   "outputs": [],
   "source": [
    "def one_hot(y, num_classes):\n",
    "    m = len(y)\n",
    "    y_hot = np.zeros((m, num_classes))\n",
    "\n",
    "    for i in range(m):\n",
    "        y_hot[i, y[i]] = 1\n",
    "    \n",
    "    return y_hot"
   ]
  },
  {
   "cell_type": "code",
   "execution_count": 1722,
   "metadata": {},
   "outputs": [
    {
     "name": "stdout",
     "output_type": "stream",
     "text": [
      "----------------Before----------------\n",
      "[0 2 0 8 8 1 8 9 9 5]\n",
      "\n",
      "\n",
      "----------------After----------------\n",
      "[[1. 0. 0. 0. 0. 0. 0. 0. 0. 0.]\n",
      " [0. 0. 1. 0. 0. 0. 0. 0. 0. 0.]\n",
      " [1. 0. 0. 0. 0. 0. 0. 0. 0. 0.]\n",
      " [0. 0. 0. 0. 0. 0. 0. 0. 1. 0.]\n",
      " [0. 0. 0. 0. 0. 0. 0. 0. 1. 0.]\n",
      " [0. 1. 0. 0. 0. 0. 0. 0. 0. 0.]\n",
      " [0. 0. 0. 0. 0. 0. 0. 0. 1. 0.]\n",
      " [0. 0. 0. 0. 0. 0. 0. 0. 0. 1.]\n",
      " [0. 0. 0. 0. 0. 0. 0. 0. 0. 1.]\n",
      " [0. 0. 0. 0. 0. 1. 0. 0. 0. 0.]]\n"
     ]
    }
   ],
   "source": [
    "print('----------------Before----------------')\n",
    "print(y_train[:10])\n",
    "\n",
    "num_classes = 10\n",
    "y_train_1hot = one_hot(y_train, num_classes)\n",
    "\n",
    "print('\\n\\n----------------After----------------')\n",
    "print(y_train_1hot[:10])"
   ]
  },
  {
   "cell_type": "markdown",
   "metadata": {},
   "source": [
    "**Step 4: Helper functions for Gradient Descent**"
   ]
  },
  {
   "cell_type": "code",
   "execution_count": 1723,
   "metadata": {},
   "outputs": [],
   "source": [
    "def softmax(z):\n",
    "    p_hat = np.exp(z)\n",
    "\n",
    "    for i in range(len(z)):\n",
    "        p_hat[i] /= np.sum(p_hat[i])\n",
    "\n",
    "    return p_hat"
   ]
  },
  {
   "cell_type": "code",
   "execution_count": 1724,
   "metadata": {},
   "outputs": [],
   "source": [
    "def cross_entropy_loss(p_hat, y):\n",
    "    # y is not one-hot in this loss function\n",
    "    return -np.mean(np.log(p_hat[np.arange(len(y)), y]))"
   ]
  },
  {
   "cell_type": "markdown",
   "metadata": {},
   "source": [
    "**Step 5: Training**"
   ]
  },
  {
   "cell_type": "code",
   "execution_count": 1725,
   "metadata": {},
   "outputs": [],
   "source": [
    "def fit(X, y, lr, num_classes, epochs, alpha):\n",
    "    m, n = X.shape\n",
    "\n",
    "    # random initialize weights and bias\n",
    "    w = np.random.random((n, num_classes))\n",
    "    b = np.random.random(num_classes)\n",
    "\n",
    "    cost_history = []\n",
    "    best_cost = 999\n",
    "    \n",
    "    try:\n",
    "        for epoch in range(epochs):\n",
    "            # calculate z\n",
    "            z = X.dot(w) + b\n",
    "\n",
    "            # one-hot encode y\n",
    "            y_hot = one_hot(y, num_classes)\n",
    "\n",
    "            # softmax to get class probabilities\n",
    "            p_hat = softmax(z)\n",
    "\n",
    "            # gradients\n",
    "            w_grad = (1 / m) * np.dot(X.T, (p_hat - y_hot))\n",
    "            b_grad = (1 / m) * np.sum(p_hat - y_hot)\n",
    "\n",
    "            # updating weights and biases\n",
    "            w = w - lr * w_grad\n",
    "            b = b - lr * b_grad\n",
    "\n",
    "            # calculate cost and add to cost history\n",
    "            cost = cross_entropy_loss(p_hat, y)\n",
    "            cost = cost + alpha * (1/2 * np.sum(np.square(w))) # l2 regularization\n",
    "\n",
    "            # early stop check\n",
    "            if cost < best_cost:\n",
    "                best_cost = cost\n",
    "            else:\n",
    "                raise UnboundLocalError\n",
    "            \n",
    "            cost_history.append(cost)\n",
    "\n",
    "            # display epoch and cost every so often\n",
    "            if epoch % 500 == 0:\n",
    "                print(f'At epoch {epoch}, the cost is {cost}')\n",
    "    except UnboundLocalError:\n",
    "        print(\"EARLY STOPPING\")\n",
    "        print(epoch, cost)\n",
    "\n",
    "    return w, b, cost_history"
   ]
  },
  {
   "cell_type": "code",
   "execution_count": 1726,
   "metadata": {},
   "outputs": [
    {
     "name": "stdout",
     "output_type": "stream",
     "text": [
      "At epoch 0, the cost is 59.078968631975144\n",
      "At epoch 500, the cost is 31.701268468790314\n",
      "At epoch 1000, the cost is 31.566381041043034\n",
      "EARLY STOPPING\n",
      "1286 31.555676839258627\n"
     ]
    }
   ],
   "source": [
    "num_classes = 10\n",
    "learning_rate = 0.01\n",
    "num_epochs = 100000000 # early stop will stop us at the optimal place\n",
    "alpha = 0.3\n",
    "weights, biases, cost_history = fit(X_train, y_train, learning_rate, num_classes, num_epochs, alpha)"
   ]
  },
  {
   "cell_type": "markdown",
   "metadata": {},
   "source": [
    "**Nice! the cost is clearly decreasing after every iteration of Gradient Descent!**\n",
    "* Lets use our optimized weights and biases to make our predictions!"
   ]
  },
  {
   "cell_type": "markdown",
   "metadata": {},
   "source": [
    "**Step 6: Predicting**"
   ]
  },
  {
   "cell_type": "code",
   "execution_count": 1727,
   "metadata": {},
   "outputs": [],
   "source": [
    "def predict(X, w, b):\n",
    "    z = X.dot(w) + b\n",
    "    p_hat = softmax(z)\n",
    "\n",
    "    predicted_class = np.argmax(p_hat, axis=1)\n",
    "\n",
    "    return predicted_class"
   ]
  },
  {
   "cell_type": "code",
   "execution_count": 1728,
   "metadata": {},
   "outputs": [],
   "source": [
    "def accuracy(y_pred, y):\n",
    "    m = len(y)\n",
    "    return np.sum(y == y_pred) / m"
   ]
  },
  {
   "cell_type": "code",
   "execution_count": 1729,
   "metadata": {},
   "outputs": [
    {
     "name": "stdout",
     "output_type": "stream",
     "text": [
      "Train accuracy: 98.69%\n",
      "Test accuracy: 96.67%\n"
     ]
    }
   ],
   "source": [
    "train_predictions = predict(X_train, weights, biases)\n",
    "train_accuracy = accuracy(train_predictions, y_train)\n",
    "\n",
    "print(f'Train accuracy: {np.round(100*train_accuracy, 2)}%')\n",
    "\n",
    "test_predictions = predict(X_test, weights, biases)\n",
    "test_accuracy = accuracy(test_predictions, y_test)\n",
    "\n",
    "print(f'Test accuracy: {np.round(100*test_accuracy, 2)}%')"
   ]
  },
  {
   "cell_type": "markdown",
   "metadata": {},
   "source": [
    "**Now lets visualize some of our predictions**"
   ]
  },
  {
   "cell_type": "code",
   "execution_count": 1730,
   "metadata": {},
   "outputs": [
    {
     "data": {
      "text/plain": [
       "<Figure size 432x288 with 0 Axes>"
      ]
     },
     "metadata": {},
     "output_type": "display_data"
    },
    {
     "data": {
      "image/png": "[encoded data removed]",
      "text/plain": [
       "<Figure size 288x288 with 1 Axes>"
      ]
     },
     "metadata": {
      "needs_background": "light"
     },
     "output_type": "display_data"
    },
    {
     "name": "stdout",
     "output_type": "stream",
     "text": [
      "Actual class: 0\n",
      "Predicted class: 0\n"
     ]
    },
    {
     "data": {
      "text/plain": [
       "<Figure size 432x288 with 0 Axes>"
      ]
     },
     "metadata": {},
     "output_type": "display_data"
    },
    {
     "data": {
      "image/png": "[encoded data removed]",
      "text/plain": [
       "<Figure size 288x288 with 1 Axes>"
      ]
     },
     "metadata": {
      "needs_background": "light"
     },
     "output_type": "display_data"
    },
    {
     "name": "stdout",
     "output_type": "stream",
     "text": [
      "Actual class: 1\n",
      "Predicted class: 1\n"
     ]
    },
    {
     "data": {
      "text/plain": [
       "<Figure size 432x288 with 0 Axes>"
      ]
     },
     "metadata": {},
     "output_type": "display_data"
    },
    {
     "data": {
      "image/png": "[encoded data removed]",
      "text/plain": [
       "<Figure size 288x288 with 1 Axes>"
      ]
     },
     "metadata": {
      "needs_background": "light"
     },
     "output_type": "display_data"
    },
    {
     "name": "stdout",
     "output_type": "stream",
     "text": [
      "Actual class: 2\n",
      "Predicted class: 2\n"
     ]
    },
    {
     "data": {
      "text/plain": [
       "<Figure size 432x288 with 0 Axes>"
      ]
     },
     "metadata": {},
     "output_type": "display_data"
    },
    {
     "data": {
      "image/png": "[encoded data removed]",
      "text/plain": [
       "<Figure size 288x288 with 1 Axes>"
      ]
     },
     "metadata": {
      "needs_background": "light"
     },
     "output_type": "display_data"
    },
    {
     "name": "stdout",
     "output_type": "stream",
     "text": [
      "Actual class: 3\n",
      "Predicted class: 3\n"
     ]
    },
    {
     "data": {
      "text/plain": [
       "<Figure size 432x288 with 0 Axes>"
      ]
     },
     "metadata": {},
     "output_type": "display_data"
    },
    {
     "data": {
      "image/png": "[encoded data removed]",
      "text/plain": [
       "<Figure size 288x288 with 1 Axes>"
      ]
     },
     "metadata": {
      "needs_background": "light"
     },
     "output_type": "display_data"
    },
    {
     "name": "stdout",
     "output_type": "stream",
     "text": [
      "Actual class: 4\n",
      "Predicted class: 4\n"
     ]
    },
    {
     "data": {
      "text/plain": [
       "<Figure size 432x288 with 0 Axes>"
      ]
     },
     "metadata": {},
     "output_type": "display_data"
    },
    {
     "data": {
      "image/png": "[encoded data removed]",
      "text/plain": [
       "<Figure size 288x288 with 1 Axes>"
      ]
     },
     "metadata": {
      "needs_background": "light"
     },
     "output_type": "display_data"
    },
    {
     "name": "stdout",
     "output_type": "stream",
     "text": [
      "Actual class: 5\n",
      "Predicted class: 5\n"
     ]
    }
   ],
   "source": [
    "for i in range(6):\n",
    "    plt.gray()\n",
    "    plt.matshow(digits.images[i])\n",
    "    plt.show()\n",
    "\n",
    "    all_predictions = predict(X, weights, biases)\n",
    "\n",
    "    print(f'Actual class: {y[i]}')\n",
    "    print(f'Predicted class: {all_predictions[i]}')"
   ]
  }
 ],
 "metadata": {
  "interpreter": {
   "hash": "aee8b7b246df8f9039afb4144a1f6fd8d2ca17a180786b69acc140d282b71a49"
  },
  "kernelspec": {
   "display_name": "Python 3.10.1 64-bit",
   "language": "python",
   "name": "python3"
  },
  "language_info": {
   "codemirror_mode": {
    "name": "ipython",
    "version": 3
   },
   "file_extension": ".py",
   "mimetype": "text/x-python",
   "name": "python",
   "nbconvert_exporter": "python",
   "pygments_lexer": "ipython3",
   "version": "3.10.1"
  },
  "orig_nbformat": 4
 },
 "nbformat": 4,
 "nbformat_minor": 2
}
